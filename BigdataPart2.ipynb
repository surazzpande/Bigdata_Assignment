{
  "nbformat": 4,
  "nbformat_minor": 0,
  "metadata": {
    "colab": {
      "provenance": [],
      "authorship_tag": "ABX9TyN1UYOjzAUB4aIKtdgApCTt",
      "include_colab_link": true
    },
    "kernelspec": {
      "name": "python3",
      "display_name": "Python 3"
    },
    "language_info": {
      "name": "python"
    }
  },
  "cells": [
    {
      "cell_type": "markdown",
      "metadata": {
        "id": "view-in-github",
        "colab_type": "text"
      },
      "source": [
        "<a href=\"https://colab.research.google.com/github/surazzpande/Bigdata_Assignment/blob/main/BigdataPart2.ipynb\" target=\"_parent\"><img src=\"https://colab.research.google.com/assets/colab-badge.svg\" alt=\"Open In Colab\"/></a>"
      ]
    },
    {
      "cell_type": "code",
      "execution_count": 1,
      "metadata": {
        "id": "iKcs17zZyZ73"
      },
      "outputs": [],
      "source": [
        "from google.colab import drive"
      ]
    },
    {
      "cell_type": "code",
      "source": [
        "drive.mount('/content/drive')"
      ],
      "metadata": {
        "colab": {
          "base_uri": "https://localhost:8080/"
        },
        "id": "VIpiToZIzmDn",
        "outputId": "ab9177c5-4ad9-44b2-8645-1fd88aabdf68"
      },
      "execution_count": 2,
      "outputs": [
        {
          "output_type": "stream",
          "name": "stdout",
          "text": [
            "Mounted at /content/drive\n"
          ]
        }
      ]
    },
    {
      "cell_type": "code",
      "source": [
        "pip install pyspark"
      ],
      "metadata": {
        "colab": {
          "base_uri": "https://localhost:8080/"
        },
        "id": "-l1kkMGYzpTI",
        "outputId": "2c9985c1-a862-4a06-d3af-c2716b0fb321"
      },
      "execution_count": 3,
      "outputs": [
        {
          "output_type": "stream",
          "name": "stdout",
          "text": [
            "Collecting pyspark\n",
            "  Downloading pyspark-3.5.1.tar.gz (317.0 MB)\n",
            "\u001b[2K     \u001b[90m━━━━━━━━━━━━━━━━━━━━━━━━━━━━━━━━━━━━━━━━\u001b[0m \u001b[32m317.0/317.0 MB\u001b[0m \u001b[31m2.2 MB/s\u001b[0m eta \u001b[36m0:00:00\u001b[0m\n",
            "\u001b[?25h  Preparing metadata (setup.py) ... \u001b[?25l\u001b[?25hdone\n",
            "Requirement already satisfied: py4j==0.10.9.7 in /usr/local/lib/python3.10/dist-packages (from pyspark) (0.10.9.7)\n",
            "Building wheels for collected packages: pyspark\n",
            "  Building wheel for pyspark (setup.py) ... \u001b[?25l\u001b[?25hdone\n",
            "  Created wheel for pyspark: filename=pyspark-3.5.1-py2.py3-none-any.whl size=317488491 sha256=5ca039111900eee3f38370988984a48f6878640dfd9123b51851486188ad32d2\n",
            "  Stored in directory: /root/.cache/pip/wheels/80/1d/60/2c256ed38dddce2fdd93be545214a63e02fbd8d74fb0b7f3a6\n",
            "Successfully built pyspark\n",
            "Installing collected packages: pyspark\n",
            "Successfully installed pyspark-3.5.1\n"
          ]
        }
      ]
    },
    {
      "cell_type": "code",
      "source": [
        "#Load Dataset2.csv"
      ],
      "metadata": {
        "id": "4JDiv4Ff1JX2"
      },
      "execution_count": 4,
      "outputs": []
    },
    {
      "cell_type": "code",
      "source": [
        "from pyspark.sql import SparkSession"
      ],
      "metadata": {
        "id": "71HJLtgt0lLX"
      },
      "execution_count": 39,
      "outputs": []
    },
    {
      "cell_type": "code",
      "source": [
        "spark = SparkSession.builder.appName(\"Assignment2\").getOrCreate()"
      ],
      "metadata": {
        "id": "o7EoqR740lH6"
      },
      "execution_count": 40,
      "outputs": []
    },
    {
      "cell_type": "code",
      "source": [
        "df_spark = spark.read.csv('/content/drive/MyDrive/Big Data/dataset2.csv', header = True, inferSchema = True)"
      ],
      "metadata": {
        "id": "geRqTknG0lFG"
      },
      "execution_count": 41,
      "outputs": []
    },
    {
      "cell_type": "code",
      "source": [
        "df_spark.show()"
      ],
      "metadata": {
        "colab": {
          "base_uri": "https://localhost:8080/"
        },
        "id": "8w8ay7vI07lp",
        "outputId": "55f72f1d-2a2e-4ea2-811b-0f51513b009f"
      },
      "execution_count": 42,
      "outputs": [
        {
          "output_type": "stream",
          "name": "stdout",
          "text": [
            "+---------+----+----+-------------------+------------------+-----+--------+----+-----+--------------------+\n",
            "|       X1|  X2|  X3|                 X4|                X5|   X6|      X7|  X8|   X9|                 X10|\n",
            "+---------+----+----+-------------------+------------------+-----+--------+----+-----+--------------------+\n",
            "| 34811059|2.73| 0.1|  3.328944661018629|           24.5962|12314|129.9049|75.3| 29.5|Middle East & Nor...|\n",
            "| 19842251|6.43| 2.0| 1.4743533878509398|          22.25083| 7103|130.1247|58.3|192.0|  Sub-Saharan Africa|\n",
            "| 40381860|2.24| 0.5|        4.785169983|           27.5017|14646|118.8915|75.5| 15.4|             America|\n",
            "|  2975029| 1.4| 0.1|        1.804106217|          25.35542| 7383|132.8108|72.5| 20.0|Europe & Central ...|\n",
            "| 21370348|1.96| 0.1|        18.01631327|          27.56373|41312|117.3755|81.5|  5.2| East Asia & Pacific|\n",
            "|  8331465|1.41| 0.3|        8.183160018|          26.46741|43952|124.1394|80.4|  4.6|Europe & Central ...|\n",
            "|  8868713|1.99| 0.1|        5.109538292|          25.65117|14365|128.6024|70.6| 43.3|Europe & Central ...|\n",
            "|   348587|1.89| 3.1|        3.131921321|          27.24594|24373|124.3862|72.2| 14.5|             America|\n",
            "|148252473|2.38|0.06|0.31916100201885805|          20.39742| 2265|125.0307|68.4| 55.9|          South Asia|\n",
            "|   277315|1.83| 1.3|        6.008278835|26.384390000000003|16075| 126.394|75.3| 15.4|             America|\n",
            "|  9526453|1.42| 0.2|         6.48817388|          26.16443|14488|129.7968|70.1|  7.2|Europe & Central ...|\n",
            "| 10779155|1.82| 0.2|        9.797336714|          26.75915|41641|121.8227|79.4|  4.7|Europe & Central ...|\n",
            "|   306165|2.91| 2.4| 1.3601259202571898|          27.02255| 8293|120.9224|70.7| 20.1|             America|\n",
            "|  8973525|5.27| 1.2| 0.5375391835148801|          22.41835| 1646|130.2723|63.2|116.3|  Sub-Saharan Africa|\n",
            "|   694990|2.51| 0.2|         0.60121031|           22.8218| 5663|125.1258|67.6| 48.1|          South Asia|\n",
            "|  9599916|3.48| 0.2|         1.43182915|          24.43335| 5066|122.4155|70.9| 52.0|             America|\n",
            "|  1967866|2.86|24.9| 2.5472054915144904|          22.12984|13858|133.1307|61.2| 63.8|  Sub-Saharan Africa|\n",
            "|194769696| 1.9|0.45|        2.023772836|          25.78623|13906|124.8745|73.9| 18.6|             America|\n",
            "|  7513646|1.43| 0.1|        6.690139082|          26.54286|15368|128.4721|73.2| 13.7|Europe & Central ...|\n",
            "| 14709011|6.04| 1.2|        0.109419171|          21.27157| 1358|130.6651|59.4|130.4|  Sub-Saharan Africa|\n",
            "+---------+----+----+-------------------+------------------+-----+--------+----+-----+--------------------+\n",
            "only showing top 20 rows\n",
            "\n"
          ]
        }
      ]
    },
    {
      "cell_type": "code",
      "source": [
        "#Removing the Column X10 From dataset"
      ],
      "metadata": {
        "id": "Y0Em79GJ1qO1"
      },
      "execution_count": 43,
      "outputs": []
    },
    {
      "cell_type": "code",
      "source": [
        "df_remove_column = df_spark.drop(\"X10\")"
      ],
      "metadata": {
        "id": "-UG7M4031cfQ"
      },
      "execution_count": 50,
      "outputs": []
    },
    {
      "cell_type": "code",
      "source": [
        "# Check if df_remove_column is created successfully\n",
        "if df_remove_column is not None:\n",
        "    # Confirm the content of df_remove_column\n",
        "    df_remove_column.show()\n",
        "\n",
        "    # Assign df_remove_column to df\n",
        "    df = df_remove_column\n",
        "else:\n",
        "    print(\"Error: df_remove_column is None. Please check the dropping operation.\")"
      ],
      "metadata": {
        "colab": {
          "base_uri": "https://localhost:8080/"
        },
        "id": "4E3ViKtdNiqt",
        "outputId": "bb5d1e18-c69b-4fa6-a592-846bfc459f4d"
      },
      "execution_count": 51,
      "outputs": [
        {
          "output_type": "stream",
          "name": "stdout",
          "text": [
            "+---------+----+----+-------------------+------------------+-----+--------+----+-----+\n",
            "|       X1|  X2|  X3|                 X4|                X5|   X6|      X7|  X8|   X9|\n",
            "+---------+----+----+-------------------+------------------+-----+--------+----+-----+\n",
            "| 34811059|2.73| 0.1|  3.328944661018629|           24.5962|12314|129.9049|75.3| 29.5|\n",
            "| 19842251|6.43| 2.0| 1.4743533878509398|          22.25083| 7103|130.1247|58.3|192.0|\n",
            "| 40381860|2.24| 0.5|        4.785169983|           27.5017|14646|118.8915|75.5| 15.4|\n",
            "|  2975029| 1.4| 0.1|        1.804106217|          25.35542| 7383|132.8108|72.5| 20.0|\n",
            "| 21370348|1.96| 0.1|        18.01631327|          27.56373|41312|117.3755|81.5|  5.2|\n",
            "|  8331465|1.41| 0.3|        8.183160018|          26.46741|43952|124.1394|80.4|  4.6|\n",
            "|  8868713|1.99| 0.1|        5.109538292|          25.65117|14365|128.6024|70.6| 43.3|\n",
            "|   348587|1.89| 3.1|        3.131921321|          27.24594|24373|124.3862|72.2| 14.5|\n",
            "|148252473|2.38|0.06|0.31916100201885805|          20.39742| 2265|125.0307|68.4| 55.9|\n",
            "|   277315|1.83| 1.3|        6.008278835|26.384390000000003|16075| 126.394|75.3| 15.4|\n",
            "|  9526453|1.42| 0.2|         6.48817388|          26.16443|14488|129.7968|70.1|  7.2|\n",
            "| 10779155|1.82| 0.2|        9.797336714|          26.75915|41641|121.8227|79.4|  4.7|\n",
            "|   306165|2.91| 2.4| 1.3601259202571898|          27.02255| 8293|120.9224|70.7| 20.1|\n",
            "|  8973525|5.27| 1.2| 0.5375391835148801|          22.41835| 1646|130.2723|63.2|116.3|\n",
            "|   694990|2.51| 0.2|         0.60121031|           22.8218| 5663|125.1258|67.6| 48.1|\n",
            "|  9599916|3.48| 0.2|         1.43182915|          24.43335| 5066|122.4155|70.9| 52.0|\n",
            "|  1967866|2.86|24.9| 2.5472054915144904|          22.12984|13858|133.1307|61.2| 63.8|\n",
            "|194769696| 1.9|0.45|        2.023772836|          25.78623|13906|124.8745|73.9| 18.6|\n",
            "|  7513646|1.43| 0.1|        6.690139082|          26.54286|15368|128.4721|73.2| 13.7|\n",
            "| 14709011|6.04| 1.2|        0.109419171|          21.27157| 1358|130.6651|59.4|130.4|\n",
            "+---------+----+----+-------------------+------------------+-----+--------+----+-----+\n",
            "only showing top 20 rows\n",
            "\n"
          ]
        }
      ]
    },
    {
      "cell_type": "code",
      "source": [
        "import matplotlib.pyplot as plt\n",
        "from pyspark.sql.functions import col"
      ],
      "metadata": {
        "id": "OxjnsRi91d2K"
      },
      "execution_count": 52,
      "outputs": []
    },
    {
      "cell_type": "code",
      "source": [
        "# Select the 'X2' and 'X8' columns from the DataFrame"
      ],
      "metadata": {
        "id": "WQv2CjDp1d5j"
      },
      "execution_count": 53,
      "outputs": []
    },
    {
      "cell_type": "code",
      "source": [
        "x2_x8_df = df.select('X2', 'X8')"
      ],
      "metadata": {
        "id": "ClJrEiDM2E56"
      },
      "execution_count": 54,
      "outputs": []
    },
    {
      "cell_type": "code",
      "source": [
        "# Convert the DataFrame to an RDD of tuples and extract 'X2' and 'X8' values"
      ],
      "metadata": {
        "id": "_c2SI1-J2I-d"
      },
      "execution_count": 14,
      "outputs": []
    },
    {
      "cell_type": "code",
      "source": [
        "x2_x8_rdd = x2_x8_df.rdd.map(lambda x: (x['X2'], x['X8']))\n",
        "x2_values = x2_x8_rdd.map(lambda x: x[0]).collect()\n",
        "x8_values = x2_x8_rdd.map(lambda x: x[1]).collect()\n"
      ],
      "metadata": {
        "id": "8ytNG_QA2dMw"
      },
      "execution_count": 55,
      "outputs": []
    },
    {
      "cell_type": "code",
      "source": [
        "# Plot the scatter plot"
      ],
      "metadata": {
        "id": "ftQEiva12f9Q"
      },
      "execution_count": 56,
      "outputs": []
    },
    {
      "cell_type": "code",
      "source": [
        "plt.figure(figsize=(10, 6))\n",
        "plt.scatter(x2_values, x8_values, color='blue', alpha=0.5)\n",
        "plt.title('Relationship between X2 and X8')\n",
        "plt.xlabel('X2')\n",
        "plt.ylabel('X8')\n",
        "plt.grid(True)\n",
        "plt.show()"
      ],
      "metadata": {
        "colab": {
          "base_uri": "https://localhost:8080/",
          "height": 564
        },
        "id": "XXmLgIwl2iJ_",
        "outputId": "3493641f-3f4f-47d4-f5f5-3484e7b11c1e"
      },
      "execution_count": 57,
      "outputs": [
        {
          "output_type": "display_data",
          "data": {
            "text/plain": [
              "<Figure size 1000x600 with 1 Axes>"
            ],
            "image/png": "[encoded data removed]"
          },
          "metadata": {}
        }
      ]
    },
    {
      "cell_type": "code",
      "source": [
        "# Register the DataFrame as a temporary view"
      ],
      "metadata": {
        "id": "PqVOQvQR26EM"
      },
      "execution_count": null,
      "outputs": []
    },
    {
      "cell_type": "code",
      "source": [
        "df.createOrReplaceTempView(\"data\")"
      ],
      "metadata": {
        "id": "PRzyrrk226Ai"
      },
      "execution_count": 58,
      "outputs": []
    },
    {
      "cell_type": "code",
      "source": [
        "# Execute SQL query to filter 'X2' greater than 1.0 and 'X8' greater than 70"
      ],
      "metadata": {
        "id": "KNExncsR25-D"
      },
      "execution_count": 59,
      "outputs": []
    },
    {
      "cell_type": "code",
      "source": [
        "result = spark.sql(\"\"\"\n",
        "    SELECT X2, X8\n",
        "    FROM data\n",
        "    WHERE X2 > 1.0 AND X8 > 70\n",
        "\"\"\")"
      ],
      "metadata": {
        "id": "1nWzq8WH257V"
      },
      "execution_count": 60,
      "outputs": []
    },
    {
      "cell_type": "code",
      "source": [
        "# Show the result"
      ],
      "metadata": {
        "id": "JPPhLpaa3D2g"
      },
      "execution_count": 61,
      "outputs": []
    },
    {
      "cell_type": "code",
      "source": [
        "result.show()"
      ],
      "metadata": {
        "colab": {
          "base_uri": "https://localhost:8080/"
        },
        "id": "AQB2dj_C3G_f",
        "outputId": "effa181b-1275-4d62-d025-72dc22fec3e7"
      },
      "execution_count": 62,
      "outputs": [
        {
          "output_type": "stream",
          "name": "stdout",
          "text": [
            "+----+----+\n",
            "|  X2|  X8|\n",
            "+----+----+\n",
            "|2.73|75.3|\n",
            "|2.24|75.5|\n",
            "| 1.4|72.5|\n",
            "|1.96|81.5|\n",
            "|1.41|80.4|\n",
            "|1.99|70.6|\n",
            "|1.89|72.2|\n",
            "|1.83|75.3|\n",
            "|1.42|70.1|\n",
            "|1.82|79.4|\n",
            "|2.91|70.7|\n",
            "|3.48|70.9|\n",
            "| 1.9|73.9|\n",
            "|1.43|73.2|\n",
            "|1.68|80.7|\n",
            "|1.89|78.9|\n",
            "|2.43|75.1|\n",
            "|1.91|79.7|\n",
            "|1.43|76.5|\n",
            "| 1.5|77.8|\n",
            "+----+----+\n",
            "only showing top 20 rows\n",
            "\n"
          ]
        }
      ]
    },
    {
      "cell_type": "code",
      "source": [
        "from pyspark.ml.feature import VectorAssembler\n",
        "from pyspark.ml.regression import LinearRegression\n",
        "from pyspark.ml.evaluation import RegressionEvaluator"
      ],
      "metadata": {
        "id": "7tVgg6ZY3JEF"
      },
      "execution_count": 63,
      "outputs": []
    },
    {
      "cell_type": "code",
      "source": [
        "# Prepare the data: Select 'X2' and 'X8' columns"
      ],
      "metadata": {
        "id": "xO2KnXRr3aYg"
      },
      "execution_count": 64,
      "outputs": []
    },
    {
      "cell_type": "code",
      "source": [
        "data = df.select('X2', 'X8')"
      ],
      "metadata": {
        "id": "cVSbZXsO3aVG"
      },
      "execution_count": 65,
      "outputs": []
    },
    {
      "cell_type": "code",
      "source": [
        "# Split the data into training and testing sets"
      ],
      "metadata": {
        "id": "YuRkmoJI3aSv"
      },
      "execution_count": 66,
      "outputs": []
    },
    {
      "cell_type": "code",
      "source": [
        "train, test = data.randomSplit([0.7, 0.3])\n"
      ],
      "metadata": {
        "id": "RO-DQ_bf3aQS"
      },
      "execution_count": 67,
      "outputs": []
    },
    {
      "cell_type": "code",
      "source": [
        "# Define the vector assembler"
      ],
      "metadata": {
        "id": "kKmCIO9Q3aN9"
      },
      "execution_count": 68,
      "outputs": []
    },
    {
      "cell_type": "code",
      "source": [
        "assembler = VectorAssembler(inputCols=['X2'], outputCol='features')"
      ],
      "metadata": {
        "id": "INtTa6Yx3keT"
      },
      "execution_count": 69,
      "outputs": []
    },
    {
      "cell_type": "code",
      "source": [
        "# Transform the data using the vector assembler"
      ],
      "metadata": {
        "id": "iV58IeZK3mdx"
      },
      "execution_count": 70,
      "outputs": []
    },
    {
      "cell_type": "code",
      "source": [
        "train = assembler.transform(train)\n",
        "test = assembler.transform(test)\n"
      ],
      "metadata": {
        "id": "TSvXaGru3olK"
      },
      "execution_count": 71,
      "outputs": []
    },
    {
      "cell_type": "code",
      "source": [
        "# Define the linear regression model"
      ],
      "metadata": {
        "id": "nhXLH8s-3qer"
      },
      "execution_count": null,
      "outputs": []
    },
    {
      "cell_type": "code",
      "source": [
        "lr = LinearRegression(featuresCol='features', labelCol='X8')"
      ],
      "metadata": {
        "id": "A8r6Z1_B3swq"
      },
      "execution_count": 72,
      "outputs": []
    },
    {
      "cell_type": "code",
      "source": [
        "# Train the model using the training data"
      ],
      "metadata": {
        "id": "OTX1Ftnp3vAG"
      },
      "execution_count": 73,
      "outputs": []
    },
    {
      "cell_type": "code",
      "source": [
        "lr_model = lr.fit(train)"
      ],
      "metadata": {
        "id": "zz1i8aDZ3wuz"
      },
      "execution_count": 74,
      "outputs": []
    },
    {
      "cell_type": "code",
      "source": [
        "# Make predictions on the testing data"
      ],
      "metadata": {
        "id": "SvHmfWoF3yjl"
      },
      "execution_count": 75,
      "outputs": []
    },
    {
      "cell_type": "code",
      "source": [
        "predictions = lr_model.transform(test)\n"
      ],
      "metadata": {
        "id": "K4rJlMWs30ef"
      },
      "execution_count": 76,
      "outputs": []
    },
    {
      "cell_type": "code",
      "source": [
        "# Evaluate the model's performance"
      ],
      "metadata": {
        "id": "PzRMqcy232TS"
      },
      "execution_count": null,
      "outputs": []
    },
    {
      "cell_type": "code",
      "source": [
        "evaluator = RegressionEvaluator(labelCol='X8', predictionCol='prediction', metricName='rmse')\n",
        "rmse = evaluator.evaluate(predictions)\n"
      ],
      "metadata": {
        "id": "aoEQxyPW34E1"
      },
      "execution_count": 77,
      "outputs": []
    },
    {
      "cell_type": "code",
      "source": [
        "# Print the Linear Regression Model (RMSE)"
      ],
      "metadata": {
        "id": "8O42-Tvq351U"
      },
      "execution_count": null,
      "outputs": []
    },
    {
      "cell_type": "code",
      "source": [
        "print(\"Linear Regression (RMSE):\", rmse)\n"
      ],
      "metadata": {
        "colab": {
          "base_uri": "https://localhost:8080/"
        },
        "id": "8lO9T5Cj38M0",
        "outputId": "42e753f9-8335-4570-f263-385f06da5242"
      },
      "execution_count": 78,
      "outputs": [
        {
          "output_type": "stream",
          "name": "stdout",
          "text": [
            "Linear Regression (RMSE): 5.494731040281207\n"
          ]
        }
      ]
    },
    {
      "cell_type": "code",
      "source": [
        "# Define the features (excluding 'X8') and the target column"
      ],
      "metadata": {
        "id": "Zg95SIiZ39-K"
      },
      "execution_count": 79,
      "outputs": []
    },
    {
      "cell_type": "code",
      "source": [
        "feature_columns = ['X1', 'X2', 'X3', 'X4', 'X5', 'X6', 'X7', 'X9']\n",
        "target_column = 'X8'\n"
      ],
      "metadata": {
        "id": "Yh6NDiFZ4KSN"
      },
      "execution_count": 80,
      "outputs": []
    },
    {
      "cell_type": "code",
      "source": [
        "# Define the predictors\n",
        "predictors = [col for col in feature_columns if col != target_column]"
      ],
      "metadata": {
        "id": "9CN2uMviIetj"
      },
      "execution_count": 81,
      "outputs": []
    },
    {
      "cell_type": "code",
      "source": [
        "# Create a vector assembler to combine all feature columns"
      ],
      "metadata": {
        "id": "CMOgEJfc4MNR"
      },
      "execution_count": 82,
      "outputs": []
    },
    {
      "cell_type": "code",
      "source": [
        "assembler = VectorAssembler(inputCols=feature_columns, outputCol='features')"
      ],
      "metadata": {
        "id": "mQ2xJy5q4OQT"
      },
      "execution_count": 83,
      "outputs": []
    },
    {
      "cell_type": "code",
      "source": [
        "# Define the vector assembler"
      ],
      "metadata": {
        "id": "obqlVeT24QZc"
      },
      "execution_count": 84,
      "outputs": []
    },
    {
      "cell_type": "code",
      "source": [
        "assembler = VectorAssembler(inputCols=predictors, outputCol='features')"
      ],
      "metadata": {
        "id": "dW025EZz4SRm"
      },
      "execution_count": 85,
      "outputs": []
    },
    {
      "cell_type": "code",
      "source": [
        "# Apply the vector assembler to the DataFrame"
      ],
      "metadata": {
        "id": "qsV7KPNu4UEO"
      },
      "execution_count": 86,
      "outputs": []
    },
    {
      "cell_type": "code",
      "source": [
        "assembled_df = assembler.transform(df)\n"
      ],
      "metadata": {
        "id": "BjW-19tl4V-O"
      },
      "execution_count": 87,
      "outputs": []
    },
    {
      "cell_type": "code",
      "source": [
        "# Split the data into training and test sets"
      ],
      "metadata": {
        "id": "mBElpQ5w4X5d"
      },
      "execution_count": 88,
      "outputs": []
    },
    {
      "cell_type": "code",
      "source": [
        "train, test = assembled_df.randomSplit([0.7, 0.3])\n"
      ],
      "metadata": {
        "id": "ZVdCm7a64s4H"
      },
      "execution_count": 89,
      "outputs": []
    },
    {
      "cell_type": "code",
      "source": [
        "# Check if 'X8' exists in the train DataFrame"
      ],
      "metadata": {
        "id": "NKIKN9Wy4vo5"
      },
      "execution_count": 90,
      "outputs": []
    },
    {
      "cell_type": "code",
      "source": [
        "if 'X8' not in train.columns:\n",
        "    raise ValueError(\"Column 'X8' does not exist in the train DataFrame.\")\n"
      ],
      "metadata": {
        "id": "4jbFGNrW4y6l"
      },
      "execution_count": 91,
      "outputs": []
    },
    {
      "cell_type": "code",
      "source": [
        "# Check if 'X8' exists in the test DataFrame"
      ],
      "metadata": {
        "id": "SN-Jcxox41OX"
      },
      "execution_count": 92,
      "outputs": []
    },
    {
      "cell_type": "code",
      "source": [
        "if 'X8' not in test.columns:\n",
        "    raise ValueError(\"Column 'X8' does not exist in the test DataFrame.\")"
      ],
      "metadata": {
        "id": "-cqXQ0bf6C21"
      },
      "execution_count": 93,
      "outputs": []
    },
    {
      "cell_type": "code",
      "source": [
        "# Define the Lasso regression model"
      ],
      "metadata": {
        "id": "Yys0yeSz6FFC"
      },
      "execution_count": null,
      "outputs": []
    },
    {
      "cell_type": "code",
      "source": [
        "lasso = LinearRegression(featuresCol='features', labelCol=target_column, elasticNetParam=1.0, regParam=0.1)"
      ],
      "metadata": {
        "id": "tXGIPAL26HI0"
      },
      "execution_count": 94,
      "outputs": []
    },
    {
      "cell_type": "code",
      "source": [
        "# Train the model using the training data"
      ],
      "metadata": {
        "id": "O_MpkagF6KBH"
      },
      "execution_count": null,
      "outputs": []
    },
    {
      "cell_type": "code",
      "source": [
        "lasso_model = lasso.fit(train)\n"
      ],
      "metadata": {
        "id": "Y4bBru_m6N0U"
      },
      "execution_count": 95,
      "outputs": []
    },
    {
      "cell_type": "code",
      "source": [
        "# Make predictions on the testing data"
      ],
      "metadata": {
        "id": "jdf8PGID6PrU"
      },
      "execution_count": null,
      "outputs": []
    },
    {
      "cell_type": "code",
      "source": [
        "predictions = lasso_model.transform(test)\n"
      ],
      "metadata": {
        "id": "w4d3ewrU6SCu"
      },
      "execution_count": 96,
      "outputs": []
    },
    {
      "cell_type": "code",
      "source": [
        "# Evaluate the model's performance"
      ],
      "metadata": {
        "id": "TX6eGdU_6UJg"
      },
      "execution_count": 97,
      "outputs": []
    },
    {
      "cell_type": "code",
      "source": [
        "evaluator = RegressionEvaluator(labelCol=target_column, predictionCol='prediction', metricName='rmse')\n",
        "rmse = evaluator.evaluate(predictions)"
      ],
      "metadata": {
        "id": "SUg5JR7e6WgW"
      },
      "execution_count": 98,
      "outputs": []
    },
    {
      "cell_type": "code",
      "source": [
        "# Print the Lasso Regression Model (RMSE)"
      ],
      "metadata": {
        "id": "NFU07-fl6Y0W"
      },
      "execution_count": null,
      "outputs": []
    },
    {
      "cell_type": "code",
      "source": [
        "print(\"Lasso Regression:\", rmse)"
      ],
      "metadata": {
        "colab": {
          "base_uri": "https://localhost:8080/"
        },
        "id": "dTjKtGQF6cR2",
        "outputId": "9bacdf8f-56bb-431b-915c-6293f10d6c66"
      },
      "execution_count": 99,
      "outputs": [
        {
          "output_type": "stream",
          "name": "stdout",
          "text": [
            "Lasso Regression: 3.039107937313391\n"
          ]
        }
      ]
    },
    {
      "cell_type": "code",
      "source": [],
      "metadata": {
        "id": "JIl18zns6eW2"
      },
      "execution_count": null,
      "outputs": []
    }
  ]
}