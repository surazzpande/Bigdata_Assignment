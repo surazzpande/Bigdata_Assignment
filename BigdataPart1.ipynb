{
  "cells": [
    {
      "cell_type": "markdown",
      "metadata": {
        "id": "view-in-github",
        "colab_type": "text"
      },
      "source": [
        "<a href=\"https://colab.research.google.com/github/surazzpande/Bigdata_Assignment/blob/main/BigdataPart1.ipynb\" target=\"_parent\"><img src=\"https://colab.research.google.com/assets/colab-badge.svg\" alt=\"Open In Colab\"/></a>"
      ]
    },
    {
      "cell_type": "code",
      "execution_count": null,
      "metadata": {
        "id": "RzXCqI8Uwu5t"
      },
      "outputs": [],
      "source": [
        "from google.colab import drive"
      ]
    },
    {
      "cell_type": "code",
      "execution_count": null,
      "metadata": {
        "colab": {
          "base_uri": "https://localhost:8080/"
        },
        "id": "4loXpey9xBAL",
        "outputId": "4f59c1fe-6d73-48e0-a3a1-cc90ceece451"
      },
      "outputs": [
        {
          "output_type": "stream",
          "name": "stdout",
          "text": [
            "Mounted at /content/drive\n"
          ]
        }
      ],
      "source": [
        "drive.mount('/content/drive')"
      ]
    },
    {
      "cell_type": "code",
      "execution_count": null,
      "metadata": {
        "colab": {
          "base_uri": "https://localhost:8080/"
        },
        "id": "Eec-8JVixBC1",
        "outputId": "4c4d0362-0b10-4914-c50f-77dbd37e91fb"
      },
      "outputs": [
        {
          "output_type": "stream",
          "name": "stdout",
          "text": [
            "Collecting pyspark\n",
            "  Downloading pyspark-3.5.1.tar.gz (317.0 MB)\n",
            "\u001b[2K     \u001b[90m━━━━━━━━━━━━━━━━━━━━━━━━━━━━━━━━━━━━━━━━\u001b[0m \u001b[32m317.0/317.0 MB\u001b[0m \u001b[31m2.6 MB/s\u001b[0m eta \u001b[36m0:00:00\u001b[0m\n",
            "\u001b[?25h  Preparing metadata (setup.py) ... \u001b[?25l\u001b[?25hdone\n",
            "Requirement already satisfied: py4j==0.10.9.7 in /usr/local/lib/python3.10/dist-packages (from pyspark) (0.10.9.7)\n",
            "Building wheels for collected packages: pyspark\n",
            "  Building wheel for pyspark (setup.py) ... \u001b[?25l\u001b[?25hdone\n",
            "  Created wheel for pyspark: filename=pyspark-3.5.1-py2.py3-none-any.whl size=317488491 sha256=0e2862dfe7b8246edf708dc8f074017f3bb9fba16ec701b807a6840401376bfb\n",
            "  Stored in directory: /root/.cache/pip/wheels/80/1d/60/2c256ed38dddce2fdd93be545214a63e02fbd8d74fb0b7f3a6\n",
            "Successfully built pyspark\n",
            "Installing collected packages: pyspark\n",
            "Successfully installed pyspark-3.5.1\n"
          ]
        }
      ],
      "source": [
        "pip install pyspark"
      ]
    },
    {
      "cell_type": "code",
      "execution_count": null,
      "metadata": {
        "id": "Gtu-w_UU5PZF"
      },
      "outputs": [],
      "source": [
        "#Load Dataset1.csv"
      ]
    },
    {
      "cell_type": "code",
      "execution_count": null,
      "metadata": {
        "id": "NdPHHRihxBFa"
      },
      "outputs": [],
      "source": [
        "from pyspark.sql import SparkSession\n",
        "from pyspark.sql.functions import col, when , trim"
      ]
    },
    {
      "cell_type": "code",
      "execution_count": null,
      "metadata": {
        "id": "m3ncP7H-xBIF"
      },
      "outputs": [],
      "source": [
        "spark = SparkSession.builder.appName(\"Assignment2\").getOrCreate()"
      ]
    },
    {
      "cell_type": "code",
      "execution_count": null,
      "metadata": {
        "id": "yqZCJ5M_xBKg"
      },
      "outputs": [],
      "source": [
        "df_spark = spark.read.csv('/content/drive/MyDrive/Big Data/dataset1.csv', header = True, inferSchema = True)"
      ]
    },
    {
      "cell_type": "code",
      "execution_count": null,
      "metadata": {
        "colab": {
          "base_uri": "https://localhost:8080/"
        },
        "id": "0NoXhG8XxBOB",
        "outputId": "a72914ed-6283-4488-9336-ba25f60ecc46"
      },
      "outputs": [
        {
          "output_type": "stream",
          "name": "stdout",
          "text": [
            "+---+------+----+---+---+---+---+---+----+---+\n",
            "| X1|    X2|  X3| X4| X5| X6| X7| X8|  X9| Y1|\n",
            "+---+------+----+---+---+---+---+---+----+---+\n",
            "| 59|28.378|0.34|204|196|132| 49| 92| 7.7|  1|\n",
            "| 59|24.968|   1|147|181|129| 34| 96|4.09|  1|\n",
            "| 48|31.307|0.62|155|185|127| 41|139| 4.5|  1|\n",
            "| 47|27.837|0.38|488|254|158| 55|250| 5.3|  2|\n",
            "| 55|22.662|0.49| 87|175|120| 44| 99| 6.9|  1|\n",
            "| 68|23.985| 1.2| 96|193|135| 48|125| 7.9|  2|\n",
            "| 58|22.096|0.09| 70|200|133| 60|154| 7.0|  2|\n",
            "| 48|28.577|0.12|139|151| 95| 37|102| 5.6|  1|\n",
            "| 63|25.034|    |243|195|129| 45| 91| 6.9|  1|\n",
            "| 53|27.253| 1.3| 93|151| 91| 55|100|9.19|  2|\n",
            "| 57|30.538| 5.1|194|250|178| 51| 93|13.5|  2|\n",
            "| 65|24.309| 1.6| 74|173|121| 43|114| 6.4|  2|\n",
            "| 68|22.888|0.77| 87|196|129| 55|144| 9.8|  2|\n",
            "| 68|  28.3|0.97|152|180|125| 37| 88| 4.3|  2|\n",
            "| 64|25.852| 2.3| 93|187|136| 40| 99|8.69|  2|\n",
            "| 67|20.716| 0.5|112|219|137| 69| 98| 8.5|  1|\n",
            "| 61|24.204| 1.5|140|208|149| 38|136|11.5|  1|\n",
            "| 51|25.829| 2.6| 79|248|185| 44|105| 7.8|  1|\n",
            "| 33|24.843| 1.2|149|191|132| 41| 87|14.1|  1|\n",
            "| 46|25.501| 1.1|109|200|129| 55| 97|9.69|  1|\n",
            "+---+------+----+---+---+---+---+---+----+---+\n",
            "only showing top 20 rows\n",
            "\n"
          ]
        }
      ],
      "source": [
        "df_spark.show()"
      ]
    },
    {
      "cell_type": "code",
      "execution_count": null,
      "metadata": {
        "id": "zCzdCKRJ5K4J"
      },
      "outputs": [],
      "source": [
        "#Replace the empty string with null Values"
      ]
    },
    {
      "cell_type": "code",
      "execution_count": null,
      "metadata": {
        "id": "zyyR4YW35ajU"
      },
      "outputs": [],
      "source": [
        "for c in df_spark.columns:\n",
        "    df_spark = df_spark.withColumn(c, when(trim(col(c)) == '', None).otherwise(col(c)))"
      ]
    },
    {
      "cell_type": "code",
      "execution_count": null,
      "metadata": {
        "id": "TZwpnkV75db6"
      },
      "outputs": [],
      "source": [
        "#After replacing with null values"
      ]
    },
    {
      "cell_type": "code",
      "execution_count": null,
      "metadata": {
        "colab": {
          "base_uri": "https://localhost:8080/"
        },
        "id": "Tgap-iga5jYA",
        "outputId": "058a0b42-315a-40cc-8301-406a38c6239c"
      },
      "outputs": [
        {
          "output_type": "stream",
          "name": "stdout",
          "text": [
            "+---+------+----+---+---+---+---+---+----+---+\n",
            "| X1|    X2|  X3| X4| X5| X6| X7| X8|  X9| Y1|\n",
            "+---+------+----+---+---+---+---+---+----+---+\n",
            "| 59|28.378|0.34|204|196|132| 49| 92| 7.7|  1|\n",
            "| 59|24.968|   1|147|181|129| 34| 96|4.09|  1|\n",
            "| 48|31.307|0.62|155|185|127| 41|139| 4.5|  1|\n",
            "| 47|27.837|0.38|488|254|158| 55|250| 5.3|  2|\n",
            "| 55|22.662|0.49| 87|175|120| 44| 99| 6.9|  1|\n",
            "| 68|23.985| 1.2| 96|193|135| 48|125| 7.9|  2|\n",
            "| 58|22.096|0.09| 70|200|133| 60|154| 7.0|  2|\n",
            "| 48|28.577|0.12|139|151| 95| 37|102| 5.6|  1|\n",
            "| 63|25.034|NULL|243|195|129| 45| 91| 6.9|  1|\n",
            "| 53|27.253| 1.3| 93|151| 91| 55|100|9.19|  2|\n",
            "| 57|30.538| 5.1|194|250|178| 51| 93|13.5|  2|\n",
            "| 65|24.309| 1.6| 74|173|121| 43|114| 6.4|  2|\n",
            "| 68|22.888|0.77| 87|196|129| 55|144| 9.8|  2|\n",
            "| 68|  28.3|0.97|152|180|125| 37| 88| 4.3|  2|\n",
            "| 64|25.852| 2.3| 93|187|136| 40| 99|8.69|  2|\n",
            "| 67|20.716| 0.5|112|219|137| 69| 98| 8.5|  1|\n",
            "| 61|24.204| 1.5|140|208|149| 38|136|11.5|  1|\n",
            "| 51|25.829| 2.6| 79|248|185| 44|105| 7.8|  1|\n",
            "| 33|24.843| 1.2|149|191|132| 41| 87|14.1|  1|\n",
            "| 46|25.501| 1.1|109|200|129| 55| 97|9.69|  1|\n",
            "+---+------+----+---+---+---+---+---+----+---+\n",
            "only showing top 20 rows\n",
            "\n"
          ]
        }
      ],
      "source": [
        "df_spark.show()"
      ]
    },
    {
      "cell_type": "code",
      "execution_count": null,
      "metadata": {
        "id": "s6Il4pIB5mcm"
      },
      "outputs": [],
      "source": [
        "#Removing all the row with null/missing values"
      ]
    },
    {
      "cell_type": "code",
      "execution_count": null,
      "metadata": {
        "id": "ngh4HxID5vUP"
      },
      "outputs": [],
      "source": [
        "df_rows_removed = df_spark.na.drop()"
      ]
    },
    {
      "cell_type": "code",
      "execution_count": null,
      "metadata": {
        "id": "jh7hm41J53Hr"
      },
      "outputs": [],
      "source": [
        "total_rows_before_removed = df_spark.count()"
      ]
    },
    {
      "cell_type": "code",
      "execution_count": null,
      "metadata": {
        "id": "I85V8mae59vZ"
      },
      "outputs": [],
      "source": [
        "removed_rows_count = df_rows_removed.count()"
      ]
    },
    {
      "cell_type": "code",
      "execution_count": null,
      "metadata": {
        "id": "n5jxR4bZ6Deq"
      },
      "outputs": [],
      "source": [
        "total_rows_removed = total_rows_before_removed-removed_rows_count"
      ]
    },
    {
      "cell_type": "code",
      "execution_count": null,
      "metadata": {
        "colab": {
          "base_uri": "https://localhost:8080/"
        },
        "id": "zh2v_tgC6LtH",
        "outputId": "072e7b75-8d76-4e60-eb45-e942bb09a1a7"
      },
      "outputs": [
        {
          "output_type": "stream",
          "name": "stdout",
          "text": [
            "Number of rows removed :58\n"
          ]
        }
      ],
      "source": [
        "print(f\"Number of rows removed :{total_rows_removed}\")"
      ]
    },
    {
      "cell_type": "code",
      "execution_count": null,
      "metadata": {
        "id": "fDZ0_fsv6S-F"
      },
      "outputs": [],
      "source": [
        "#Replace the table name"
      ]
    },
    {
      "cell_type": "code",
      "execution_count": null,
      "metadata": {
        "id": "hfYnXU_36aUg"
      },
      "outputs": [],
      "source": [
        "df = df_rows_removed"
      ]
    },
    {
      "cell_type": "code",
      "execution_count": null,
      "metadata": {
        "colab": {
          "base_uri": "https://localhost:8080/"
        },
        "id": "jqLpHtsD6cvO",
        "outputId": "d6923d68-5b0f-49cc-ff3a-5a067263eef2"
      },
      "outputs": [
        {
          "output_type": "stream",
          "name": "stdout",
          "text": [
            "+---+------+----+---+---+---+---+---+----+---+\n",
            "| X1|    X2|  X3| X4| X5| X6| X7| X8|  X9| Y1|\n",
            "+---+------+----+---+---+---+---+---+----+---+\n",
            "| 59|28.378|0.34|204|196|132| 49| 92| 7.7|  1|\n",
            "| 59|24.968|   1|147|181|129| 34| 96|4.09|  1|\n",
            "| 48|31.307|0.62|155|185|127| 41|139| 4.5|  1|\n",
            "| 47|27.837|0.38|488|254|158| 55|250| 5.3|  2|\n",
            "| 55|22.662|0.49| 87|175|120| 44| 99| 6.9|  1|\n",
            "| 68|23.985| 1.2| 96|193|135| 48|125| 7.9|  2|\n",
            "| 58|22.096|0.09| 70|200|133| 60|154| 7.0|  2|\n",
            "| 48|28.577|0.12|139|151| 95| 37|102| 5.6|  1|\n",
            "| 53|27.253| 1.3| 93|151| 91| 55|100|9.19|  2|\n",
            "| 57|30.538| 5.1|194|250|178| 51| 93|13.5|  2|\n",
            "| 65|24.309| 1.6| 74|173|121| 43|114| 6.4|  2|\n",
            "| 68|22.888|0.77| 87|196|129| 55|144| 9.8|  2|\n",
            "| 68|  28.3|0.97|152|180|125| 37| 88| 4.3|  2|\n",
            "| 64|25.852| 2.3| 93|187|136| 40| 99|8.69|  2|\n",
            "| 67|20.716| 0.5|112|219|137| 69| 98| 8.5|  1|\n",
            "| 61|24.204| 1.5|140|208|149| 38|136|11.5|  1|\n",
            "| 51|25.829| 2.6| 79|248|185| 44|105| 7.8|  1|\n",
            "| 33|24.843| 1.2|149|191|132| 41| 87|14.1|  1|\n",
            "| 46|25.501| 1.1|109|200|129| 55| 97|9.69|  1|\n",
            "| 63|19.817|0.42| 96|195|123| 55|245| 7.3|  2|\n",
            "+---+------+----+---+---+---+---+---+----+---+\n",
            "only showing top 20 rows\n",
            "\n"
          ]
        }
      ],
      "source": [
        "df.show()"
      ]
    },
    {
      "cell_type": "code",
      "execution_count": null,
      "metadata": {
        "id": "XwE3DowI6eue"
      },
      "outputs": [],
      "source": [
        "#Summary Statistics_and_Histogram of X1"
      ]
    },
    {
      "cell_type": "code",
      "execution_count": null,
      "metadata": {
        "id": "gqXeOvsS6qs4"
      },
      "outputs": [],
      "source": [
        "import pyspark.sql.functions as F\n",
        "import matplotlib.pyplot as plt\n",
        "import numpy as np\n",
        "import seaborn as sns\n",
        "from pyspark.sql.functions import skewness, kurtosis\n",
        "from collections import Counter"
      ]
    },
    {
      "cell_type": "code",
      "execution_count": null,
      "metadata": {
        "id": "O9HLrQnc6v-D"
      },
      "outputs": [],
      "source": [
        "#Calculate summary statistics"
      ]
    },
    {
      "cell_type": "code",
      "execution_count": null,
      "metadata": {
        "id": "eE3bnoxv7AKd"
      },
      "outputs": [],
      "source": [
        "min_value = df.select(F.min(\"X1\")).collect()[0][0]\n",
        "max_value = df.select(F.max(\"X1\")).collect()[0][0]\n",
        "mean_value = df.select(F.avg(\"X1\")).collect()[0][0]\n",
        "median_value = df.select(F.expr(\"percentile_approx(X1, 0.5)\")).collect()[0][0]\n",
        "variance = df.select(F.variance(\"X1\")).collect()[0][0]\n",
        "std_deviation = df.select(F.stddev(\"X1\")).collect()[0][0]\n",
        "\n"
      ]
    },
    {
      "cell_type": "code",
      "execution_count": null,
      "metadata": {
        "id": "1fiUHLE67DcF"
      },
      "outputs": [],
      "source": [
        "#Show summary statistics"
      ]
    },
    {
      "cell_type": "code",
      "execution_count": null,
      "metadata": {
        "colab": {
          "base_uri": "https://localhost:8080/"
        },
        "id": "T2Onf85X7Jft",
        "outputId": "7a942f44-c486-4668-b98f-f66aac2aa27b"
      },
      "outputs": [
        {
          "output_type": "stream",
          "name": "stdout",
          "text": [
            "Min value:  21\n",
            "Max value:  90\n",
            "Mean value:  53.340715009408015\n",
            "Median value:  53\n",
            "Variance:  75.91140082047643\n",
            "Standard deviation:  8.712714893790364\n"
          ]
        }
      ],
      "source": [
        "print(\"Min value: \", min_value)\n",
        "print(\"Max value: \", max_value)\n",
        "print(\"Mean value: \", mean_value)\n",
        "print(\"Median value: \", median_value)\n",
        "print(\"Variance: \", variance)\n",
        "print(\"Standard deviation: \", std_deviation)"
      ]
    },
    {
      "cell_type": "code",
      "execution_count": null,
      "metadata": {
        "id": "2dC61r8K7L6o"
      },
      "outputs": [],
      "source": [
        "#Select the X1 column and convert it to a list"
      ]
    },
    {
      "cell_type": "code",
      "source": [
        "# calculate the skewness and kurtosis\n",
        "skewness_kurtosis = df.select(\n",
        "    skewness(\"X1\").alias(\"skewness\"),\n",
        "    kurtosis(\"X1\").alias(\"kurtosis\")\n",
        ").collect()[0]\n",
        "\n",
        "print(f'Skewness: {skewness_kurtosis[\"skewness\"]:.3f}')\n",
        "print(f'Kurtosis: {skewness_kurtosis[\"kurtosis\"]:.3f}')"
      ],
      "metadata": {
        "colab": {
          "base_uri": "https://localhost:8080/"
        },
        "id": "1hU31LVsELN4",
        "outputId": "7c807e30-ee45-4065-963e-ef8492e629c4"
      },
      "execution_count": null,
      "outputs": [
        {
          "output_type": "stream",
          "name": "stdout",
          "text": [
            "Skewness: 0.179\n",
            "Kurtosis: 0.309\n"
          ]
        }
      ]
    },
    {
      "cell_type": "code",
      "source": [
        "# Calculate the frequency of each value in the 'X1' column\n",
        "x1_counts = df.groupBy(\"X1\").count().collect()"
      ],
      "metadata": {
        "id": "2k3eL4nrHDkm"
      },
      "execution_count": null,
      "outputs": []
    },
    {
      "cell_type": "code",
      "source": [
        "# Find the maximum frequency\n",
        "max_frequency = max(x1_counts, key=lambda x: x[1])[1]"
      ],
      "metadata": {
        "id": "yAvdT-mKHFT_"
      },
      "execution_count": null,
      "outputs": []
    },
    {
      "cell_type": "code",
      "source": [
        "# Find modes by filtering values with maximum frequency\n",
        "modes = [x[0] for x in x1_counts if x[1] == max_frequency]"
      ],
      "metadata": {
        "id": "Uv_5LNWYHEzd"
      },
      "execution_count": null,
      "outputs": []
    },
    {
      "cell_type": "code",
      "source": [
        "# Print the number of modes\n",
        "print(f'Number of modes: {len(modes)}')"
      ],
      "metadata": {
        "colab": {
          "base_uri": "https://localhost:8080/"
        },
        "id": "_TfPxM2aHEib",
        "outputId": "67227da5-5149-4e3c-eeb2-4ed5fa4e8afa"
      },
      "execution_count": null,
      "outputs": [
        {
          "output_type": "stream",
          "name": "stdout",
          "text": [
            "Number of modes: 1\n"
          ]
        }
      ]
    },
    {
      "cell_type": "code",
      "execution_count": null,
      "metadata": {
        "id": "9udRuKvG7ccl"
      },
      "outputs": [],
      "source": [
        "x1_data = df.select(\"X1\").rdd.flatMap(lambda x: x).collect()"
      ]
    },
    {
      "cell_type": "code",
      "execution_count": null,
      "metadata": {
        "id": "zh0wiS7h7hyA"
      },
      "outputs": [],
      "source": [
        "# Create a histogram of the X1 data"
      ]
    },
    {
      "cell_type": "code",
      "execution_count": null,
      "metadata": {
        "colab": {
          "base_uri": "https://localhost:8080/",
          "height": 564
        },
        "id": "CTEkKMLX7mPH",
        "outputId": "5a2904c1-d575-41c7-89f2-38ea78ea2674"
      },
      "outputs": [
        {
          "output_type": "display_data",
          "data": {
            "text/plain": [
              "<Figure size 800x600 with 1 Axes>"
            ],
            "image/png": "[encoded data removed]"
          },
          "metadata": {}
        }
      ],
      "source": [
        "plt.figure(figsize=(8, 6))\n",
        "plt.hist(x1_data, bins=20, color='skyblue', edgecolor='black')\n",
        "plt.title('Histogram of X1 Feature')\n",
        "plt.xlabel('X1 Values')\n",
        "plt.ylabel('Frequency')\n",
        "plt.grid(True)\n",
        "plt.show()\n"
      ]
    },
    {
      "cell_type": "code",
      "execution_count": null,
      "metadata": {
        "id": "4P_cY4Jj7qGw"
      },
      "outputs": [],
      "source": [
        "# Calculate quartiles\n",
        "# from pyspark.sql.functions import percentile_approx"
      ]
    },
    {
      "cell_type": "code",
      "execution_count": null,
      "metadata": {
        "id": "wJ7CuDqH8Y1Q"
      },
      "outputs": [],
      "source": [
        "quartiles = df.approxQuantile(\"X2\", [0.25, 0.5, 0.75], 0.0)\n",
        "q1, median, q3 = quartiles"
      ]
    },
    {
      "cell_type": "code",
      "execution_count": null,
      "metadata": {
        "id": "pkeinIhO8aAr"
      },
      "outputs": [],
      "source": [
        "# Print quartile values"
      ]
    },
    {
      "cell_type": "code",
      "execution_count": null,
      "metadata": {
        "colab": {
          "base_uri": "https://localhost:8080/"
        },
        "id": "jMdiyz-U9E9T",
        "outputId": "eaaa431b-aede-4ad4-874d-b847d775814c"
      },
      "outputs": [
        {
          "output_type": "stream",
          "name": "stdout",
          "text": [
            "Quartile Information for X2 feature:\n",
            "First Quartile (Q1): 22.975\n",
            "Median (Q2): 24.704\n",
            "Third Quartile (Q3): 26.435\n"
          ]
        }
      ],
      "source": [
        "print(\"Quartile Information for X2 feature:\")\n",
        "print(f\"First Quartile (Q1): {q1}\")\n",
        "print(f\"Median (Q2): {median}\")\n",
        "print(f\"Third Quartile (Q3): {q3}\")"
      ]
    },
    {
      "cell_type": "code",
      "execution_count": null,
      "metadata": {
        "id": "H7V2xqJE9H8N"
      },
      "outputs": [],
      "source": [
        "# Generate boxplot"
      ]
    },
    {
      "cell_type": "code",
      "execution_count": null,
      "metadata": {
        "id": "J5qXatQfZXJM"
      },
      "outputs": [],
      "source": [
        " x2_data = df.select('X2').rdd.flatMap(lambda row: row).collect()"
      ]
    },
    {
      "cell_type": "code",
      "execution_count": null,
      "metadata": {
        "colab": {
          "base_uri": "https://localhost:8080/",
          "height": 564
        },
        "id": "mrjPbhZJ97Wz",
        "outputId": "3209dcaa-297c-4fa4-beba-d7d817b32f1e"
      },
      "outputs": [
        {
          "output_type": "display_data",
          "data": {
            "text/plain": [
              "<Figure size 800x600 with 1 Axes>"
            ],
            "image/png": "[encoded data removed]"
          },
          "metadata": {}
        }
      ],
      "source": [
        "plt.figure(figsize=(8, 6))\n",
        "sns.boxplot(x=x2_data)\n",
        "plt.title('Boxplot of X2 Feature')\n",
        "plt.xlabel('X2')\n",
        "plt.ylabel('Frequency')\n",
        "plt.show()"
      ]
    },
    {
      "cell_type": "code",
      "execution_count": null,
      "metadata": {
        "id": "eFjhlOLK-Anc"
      },
      "outputs": [],
      "source": [
        "# Use filter and count methods\n"
      ]
    },
    {
      "cell_type": "code",
      "execution_count": null,
      "metadata": {
        "id": "DGl9SQuyHktm"
      },
      "outputs": [],
      "source": [
        "count = df.filter((df['X1'] > 50) & (df['Y1'] == 1)).count()"
      ]
    },
    {
      "cell_type": "code",
      "execution_count": null,
      "metadata": {
        "id": "6lSWioANH5RG"
      },
      "outputs": [],
      "source": [
        "# Display the count"
      ]
    },
    {
      "cell_type": "code",
      "execution_count": null,
      "metadata": {
        "id": "4cXZBt-0H9Vx",
        "colab": {
          "base_uri": "https://localhost:8080/"
        },
        "outputId": "e1c52e47-fc21-4660-d79b-eda56d7bbe88"
      },
      "outputs": [
        {
          "output_type": "stream",
          "name": "stdout",
          "text": [
            "Number of rows where 'X1' is greater than 50 and 'Y1' equals 1: 2166\n"
          ]
        }
      ],
      "source": [
        "print(\"Number of rows where 'X1' is greater than 50 and 'Y1' equals 1:\", count)"
      ]
    },
    {
      "cell_type": "code",
      "execution_count": null,
      "metadata": {
        "id": "Y98g7ejAIB4q"
      },
      "outputs": [],
      "source": [
        "#Load dataset"
      ]
    },
    {
      "cell_type": "code",
      "execution_count": null,
      "metadata": {
        "id": "uWEKphAgMH0O"
      },
      "outputs": [],
      "source": [
        "from pyspark.ml.feature import StringIndexer, VectorAssembler\n",
        "from pyspark.ml.classification import LogisticRegression, RandomForestClassifier\n",
        "from pyspark.ml.evaluation import BinaryClassificationEvaluator, MulticlassClassificationEvaluator"
      ]
    },
    {
      "cell_type": "code",
      "source": [
        "# Convert string columns to numerical columns using StringIndexer"
      ],
      "metadata": {
        "id": "GFA6gSlUZ5Rm"
      },
      "execution_count": null,
      "outputs": []
    },
    {
      "cell_type": "code",
      "source": [
        "indexers = [StringIndexer(inputCol=c, outputCol=f'{c}_index').fit(df) for c in ['X3', 'X5', 'X8']]\n",
        "indexed_df = df\n",
        "for indexer in indexers:\n",
        "    indexed_df = indexer.transform(indexed_df)"
      ],
      "metadata": {
        "id": "5QcN7pIRZ5OS"
      },
      "execution_count": null,
      "outputs": []
    },
    {
      "cell_type": "code",
      "source": [
        "# Select the indexed columns and the label column\n"
      ],
      "metadata": {
        "id": "gR3mif98Z5LA"
      },
      "execution_count": null,
      "outputs": []
    },
    {
      "cell_type": "code",
      "source": [
        "indexed_cols = ['Y1'] + [indexer.getOutputCol() for indexer in indexers]\n",
        "indexed_df = indexed_df.select(indexed_cols)"
      ],
      "metadata": {
        "id": "1rZHC2dBZ5IY"
      },
      "execution_count": null,
      "outputs": []
    },
    {
      "cell_type": "code",
      "source": [
        "# Create a vector assembler to combine all other columns as predictors"
      ],
      "metadata": {
        "id": "LGV4EnpFdCb6"
      },
      "execution_count": null,
      "outputs": []
    },
    {
      "cell_type": "code",
      "source": [
        "assembler = VectorAssembler(inputCols=[x for x in indexed_cols if x != 'Y1'], outputCol='features')\n"
      ],
      "metadata": {
        "id": "8z-FJ63uc66M"
      },
      "execution_count": null,
      "outputs": []
    },
    {
      "cell_type": "code",
      "source": [
        "# Apply the vector assembler to the DataFrame"
      ],
      "metadata": {
        "id": "DOTmZKhYabHr"
      },
      "execution_count": null,
      "outputs": []
    },
    {
      "cell_type": "code",
      "source": [
        "assembled_df = assembler.transform(indexed_df)"
      ],
      "metadata": {
        "id": "4AO_06Gfad6e"
      },
      "execution_count": null,
      "outputs": []
    },
    {
      "cell_type": "code",
      "source": [
        "# Split the data into training and test sets\n"
      ],
      "metadata": {
        "id": "C0u0ZMUfdUMS"
      },
      "execution_count": null,
      "outputs": []
    },
    {
      "cell_type": "code",
      "source": [
        "train, test = assembled_df.randomSplit([0.7, 0.3])"
      ],
      "metadata": {
        "id": "ejsgDZNadTGQ"
      },
      "execution_count": null,
      "outputs": []
    },
    {
      "cell_type": "code",
      "source": [
        "# Create a logistic regression model"
      ],
      "metadata": {
        "id": "HMzgQzNzwArH"
      },
      "execution_count": null,
      "outputs": []
    },
    {
      "cell_type": "code",
      "source": [
        "lr = LogisticRegression(featuresCol='features', labelCol='Y1')"
      ],
      "metadata": {
        "id": "tsx9AudieIU2"
      },
      "execution_count": null,
      "outputs": []
    },
    {
      "cell_type": "code",
      "source": [
        "# Create a random forest classifier model"
      ],
      "metadata": {
        "id": "PprI9IV5j9Kq"
      },
      "execution_count": null,
      "outputs": []
    },
    {
      "cell_type": "code",
      "source": [
        "rf = RandomForestClassifier(featuresCol='features', labelCol='Y1', maxBins=300)\n"
      ],
      "metadata": {
        "id": "e7l6kYE5j8_e"
      },
      "execution_count": null,
      "outputs": []
    },
    {
      "cell_type": "code",
      "source": [
        "# Fit the models to the training data"
      ],
      "metadata": {
        "id": "y1f7USz6wAdW"
      },
      "execution_count": null,
      "outputs": []
    },
    {
      "cell_type": "code",
      "source": [
        "lrModel = lr.fit(train)\n",
        "rfModel = rf.fit(train)"
      ],
      "metadata": {
        "id": "IrGCbc6FntkM"
      },
      "execution_count": null,
      "outputs": []
    },
    {
      "cell_type": "code",
      "source": [
        "# Make predictions on the test data"
      ],
      "metadata": {
        "id": "bu0BA7DyntYt"
      },
      "execution_count": null,
      "outputs": []
    },
    {
      "cell_type": "code",
      "source": [
        "lrPredictions = lrModel.transform(test)\n",
        "rfPredictions = rfModel.transform(test)"
      ],
      "metadata": {
        "id": "iyOUenvqm_v9"
      },
      "execution_count": null,
      "outputs": []
    },
    {
      "cell_type": "code",
      "source": [
        "# Create the evaluator for AUC"
      ],
      "metadata": {
        "id": "-M5zjzyonCvZ"
      },
      "execution_count": null,
      "outputs": []
    },
    {
      "cell_type": "code",
      "source": [
        "evaluator = BinaryClassificationEvaluator(labelCol=\"Y1\", rawPredictionCol=\"prediction\")"
      ],
      "metadata": {
        "id": "95x4EoNInTcY"
      },
      "execution_count": null,
      "outputs": []
    },
    {
      "cell_type": "code",
      "source": [
        "# Evaluate logistic regression model"
      ],
      "metadata": {
        "id": "qw8_uE7jk2TB"
      },
      "execution_count": null,
      "outputs": []
    },
    {
      "cell_type": "code",
      "source": [
        "lrAUC = evaluator.evaluate(lrPredictions)\n"
      ],
      "metadata": {
        "id": "MSEjR-Ojk2Pw"
      },
      "execution_count": null,
      "outputs": []
    },
    {
      "cell_type": "code",
      "source": [
        "# Evaluate random forest model AUC"
      ],
      "metadata": {
        "id": "TVECE77_nWW1"
      },
      "execution_count": null,
      "outputs": []
    },
    {
      "cell_type": "code",
      "source": [
        "rfAUC = evaluator.evaluate(rfPredictions)"
      ],
      "metadata": {
        "id": "j6k3xNngo1dI"
      },
      "execution_count": null,
      "outputs": []
    },
    {
      "cell_type": "code",
      "source": [
        "# Create the evaluator for precision"
      ],
      "metadata": {
        "id": "-qwh2RCdo4gw"
      },
      "execution_count": null,
      "outputs": []
    },
    {
      "cell_type": "code",
      "source": [
        "precisionEvaluator = BinaryClassificationEvaluator(labelCol=\"Y1\", metricName=\"precision\")"
      ],
      "metadata": {
        "id": "psvH-IwqWtvi"
      },
      "execution_count": null,
      "outputs": []
    },
    {
      "cell_type": "code",
      "source": [
        "# Calculate true positives, false positives, and precision for logistic regression"
      ],
      "metadata": {
        "id": "5fD75YEEpIw0"
      },
      "execution_count": null,
      "outputs": []
    },
    {
      "cell_type": "code",
      "source": [
        "tp_lr = lrPredictions.filter((col('Y1') == 1) & (col('prediction') == 1)).count()\n",
        "fp_lr = lrPredictions.filter((col('Y1') == 0) & (col('prediction') == 1)).count()\n",
        "lrPrecision = tp_lr / (tp_lr + fp_lr)"
      ],
      "metadata": {
        "id": "XgSxJlbhpIfq"
      },
      "execution_count": null,
      "outputs": []
    },
    {
      "cell_type": "code",
      "source": [
        "# Calculate true positives, false positives, and precision for random forest"
      ],
      "metadata": {
        "id": "rZT3rUACainQ"
      },
      "execution_count": null,
      "outputs": []
    },
    {
      "cell_type": "code",
      "source": [
        "tp_rf = rfPredictions.filter((col('Y1') == 1) & (col('prediction') == 1)).count()\n",
        "fp_rf = rfPredictions.filter((col('Y1') == 0) & (col('prediction') == 1)).count()\n",
        "rfPrecision = tp_rf / (tp_rf + fp_rf)"
      ],
      "metadata": {
        "id": "MNuMMnRNpw1Q"
      },
      "execution_count": null,
      "outputs": []
    },
    {
      "cell_type": "code",
      "source": [
        "# Print the evaluation metrics"
      ],
      "metadata": {
        "id": "PEZT22bVpxr9"
      },
      "execution_count": null,
      "outputs": []
    },
    {
      "cell_type": "code",
      "source": [
        "print(f'Logistic Regression AUC: {lrAUC}')\n",
        "print(f'Random Forest AUC: {rfAUC}')\n",
        "print(f'Logistic Regression Precision: {lrPrecision}')\n",
        "print(f'Random Forest Precision: {rfPrecision}')\n"
      ],
      "metadata": {
        "colab": {
          "base_uri": "https://localhost:8080/"
        },
        "id": "Sh2hLXE1pXc_",
        "outputId": "4a501b93-0a85-4141-f9e3-8de6efb353de"
      },
      "execution_count": null,
      "outputs": [
        {
          "output_type": "stream",
          "name": "stdout",
          "text": [
            "Logistic Regression AUC: 1.0\n",
            "Random Forest AUC: 1.0\n",
            "Logistic Regression Precision: 1.0\n",
            "Random Forest Precision: 1.0\n"
          ]
        }
      ]
    }
  ],
  "metadata": {
    "colab": {
      "provenance": [],
      "authorship_tag": "ABX9TyOROWQ2mJOieQ3NfffBt312",
      "include_colab_link": true
    },
    "kernelspec": {
      "display_name": "Python 3",
      "name": "python3"
    },
    "language_info": {
      "name": "python"
    }
  },
  "nbformat": 4,
  "nbformat_minor": 0
}